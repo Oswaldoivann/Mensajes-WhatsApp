{
 "cells": [
  {
   "cell_type": "markdown",
   "metadata": {},
   "source": [
    "## Mensajes WhatsApp ✆"
   ]
  },
  {
   "cell_type": "markdown",
   "metadata": {},
   "source": [
    "``` Librerias ```"
   ]
  },
  {
   "cell_type": "code",
   "execution_count": 24,
   "metadata": {},
   "outputs": [],
   "source": [
    "import pyautogui as pg\n",
    "import webbrowser as web\n",
    "import pandas as pd\n",
    "import time"
   ]
  },
  {
   "cell_type": "markdown",
   "metadata": {},
   "source": [
    "### Funcion: enviar_mensaje()"
   ]
  },
  {
   "cell_type": "code",
   "execution_count": 65,
   "metadata": {},
   "outputs": [],
   "source": [
    "def enviar_mensaje(celular, mensaje):\n",
    "    first = True\n",
    "    time.sleep(2)\n",
    "    web.open('https://web.whatsapp.com/send?phone=' + celular+ \"&text=\" + mensaje)\n",
    "    if first:\n",
    "        time.sleep(4)\n",
    "        first = False\n",
    "    time.sleep(2)\n",
    "    pg.press('enter')\n",
    "    time.sleep(4)\n",
    "    pg.hotkey('ctrl', 'w')\n",
    "\n",
    "# Definir la lista de tuplas combo\n",
    "combo_msj = [\n",
    "    ('+8801810-275810', 'Hola, buen día')\n",
    "]\n",
    "\n",
    "# Iterar a través de cada tupla (celular, mensaje) en la lista combo\n",
    "for celular, mensaje in combo_msj:\n",
    "    enviar_mensaje(celular, mensaje)"
   ]
  },
  {
   "cell_type": "markdown",
   "metadata": {},
   "source": [
    "### Funcion: enviar_mensaje_adjunto ()"
   ]
  },
  {
   "cell_type": "code",
   "execution_count": 68,
   "metadata": {},
   "outputs": [],
   "source": [
    "def enviar_mensaje_adjunto(celular, archivo):\n",
    "    web.open('https://web.whatsapp.com/send?phone=' + celular)\n",
    "    first = True\n",
    "    time.sleep(2)\n",
    "    if first:\n",
    "        time.sleep(3)\n",
    "        first = False\n",
    "    time.sleep(2)\n",
    "    #Tab hasta llegar a adjuntar archivos 16 veces\n",
    "    for _ in range(16):  \n",
    "        pg.press('tab')\n",
    "    # Tecla espacio\n",
    "    pg.press('space')\n",
    "    # Flecha hacia arriba 6 veces\n",
    "    for _ in range(6):\n",
    "        pg.press('up')\n",
    "    #Enter\n",
    "    pg.press('enter')\n",
    "    time.sleep(2)\n",
    "    #Pegamos el nombre del archivo\n",
    "    pg.typewrite(archivo)\n",
    "    for _ in range(2):  \n",
    "        pg.press('tab')\n",
    "    pg.press('enter')\n",
    "    for _ in range(4):  \n",
    "        pg.press('tab')\n",
    "    pg.press('enter')\n",
    "    time.sleep(4)\n",
    "    pg.hotkey('ctrl', 'w')\n",
    "\n",
    "# Definir la lista de tuplas combo\n",
    "combo_adjunto = [\n",
    "    ('+8801810-275810', 'datos_.csv')\n",
    "]\n",
    "\n",
    "# Iterar a través de cada tupla (celular, archivo) en la lista combo\n",
    "for celular, archivo in combo_adjunto:\n",
    "    enviar_mensaje_adjunto(celular, archivo)"
   ]
  },
  {
   "cell_type": "markdown",
   "metadata": {},
   "source": [
    "### Utilizando un CSV"
   ]
  },
  {
   "cell_type": "code",
   "execution_count": 75,
   "metadata": {},
   "outputs": [
    {
     "name": "stdout",
     "output_type": "stream",
     "text": [
      "[('529531725062', 'Hola buen día'), ('529531725062', 'Te has ganado un Iphone 14 Pro Max'), ('529531725062', 'Haz click en el siguiente enlace www.hot.com.mx')]\n"
     ]
    }
   ],
   "source": [
    "import pandas as pd\n",
    "\n",
    "# Leer el archivo CSV y convertir las columnas a cadenas de texto\n",
    "data = pd.read_csv('datos.csv')\n",
    "data['celular'] = data['celular'].astype(str)\n",
    "data['mensaje'] = data['mensaje'].astype(str)\n",
    "\n",
    "# Crear la nueva lista de tuplas en el formato deseado\n",
    "combo = list(zip(data['celular'], data['mensaje']))\n",
    "\n",
    "print(combo)\n"
   ]
  },
  {
   "cell_type": "code",
   "execution_count": 79,
   "metadata": {},
   "outputs": [],
   "source": [
    "import pandas as pd\n",
    "\n",
    "# Leer el archivo CSV\n",
    "data = pd.read_csv('datos.csv')\n",
    "\n",
    "# Iterar a str los números de celular y agregar símbolo '+'\n",
    "celulares_con_simbolo = ['+' + str(numero) for numero in data['celular']]\n",
    "\n",
    "# Crear la nueva lista de tuplas en el formato deseado\n",
    "combo_msj = list(zip(celulares_con_simbolo, data['mensaje']))\n",
    "\n",
    "def enviar_mensaje(celular, mensaje):\n",
    "    first = True  # Primer envío\n",
    "    time.sleep(2)\n",
    "    web.open('https://web.whatsapp.com/send?phone=' + celular+ \"&text=\" + mensaje)\n",
    "    if first:\n",
    "        time.sleep(4)\n",
    "        first = False\n",
    "    time.sleep(2)\n",
    "    pg.press('enter')\n",
    "    time.sleep(4)\n",
    "    pg.hotkey('ctrl', 'w')\n",
    "\n",
    "for celular, mensaje in combo_msj:\n",
    "    enviar_mensaje(celular, mensaje)\n"
   ]
  },
  {
   "cell_type": "markdown",
   "metadata": {},
   "source": [
    "#"
   ]
  },
  {
   "cell_type": "markdown",
   "metadata": {},
   "source": [
    "```Goog Luck 🍀```"
   ]
  },
  {
   "cell_type": "code",
   "execution_count": null,
   "metadata": {},
   "outputs": [],
   "source": []
  }
 ],
 "metadata": {
  "kernelspec": {
   "display_name": "Python 3",
   "language": "python",
   "name": "python3"
  },
  "language_info": {
   "codemirror_mode": {
    "name": "ipython",
    "version": 3
   },
   "file_extension": ".py",
   "mimetype": "text/x-python",
   "name": "python",
   "nbconvert_exporter": "python",
   "pygments_lexer": "ipython3",
   "version": "3.8.8"
  },
  "orig_nbformat": 4
 },
 "nbformat": 4,
 "nbformat_minor": 2
}
